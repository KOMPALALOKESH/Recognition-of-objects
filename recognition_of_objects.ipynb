{
  "nbformat": 4,
  "nbformat_minor": 0,
  "metadata": {
    "colab": {
      "name": "recognition of objects.ipynb",
      "provenance": [],
      "collapsed_sections": []
    },
    "kernelspec": {
      "name": "python3",
      "display_name": "Python 3"
    },
    "language_info": {
      "name": "python"
    }
  },
  "cells": [
    {
      "cell_type": "code",
      "execution_count": null,
      "metadata": {
        "id": "2RqcWI-bf69k"
      },
      "outputs": [],
      "source": [
        "import tensorflow as tf\n",
        "from keras.utils import np_utils\n",
        "from matplotlib import pyplot as plt\n",
        "import numpy as np"
      ]
    },
    {
      "cell_type": "code",
      "source": [
        "import keras"
      ],
      "metadata": {
        "id": "EiWoXGi-giYc"
      },
      "execution_count": null,
      "outputs": []
    },
    {
      "cell_type": "code",
      "source": [
        "(x_train, y_train) ,(x_test, y_test) = tf.keras.datasets.cifar10.load_data()  "
      ],
      "metadata": {
        "id": "OYwKHiUigmcp"
      },
      "execution_count": null,
      "outputs": []
    },
    {
      "cell_type": "code",
      "source": [
        "print('training images: {}'.format(x_train.shape))\n",
        "print('training images: {}'.format(x_test.shape))"
      ],
      "metadata": {
        "colab": {
          "base_uri": "https://localhost:8080/"
        },
        "id": "4LrSjNH_h8eW",
        "outputId": "48b73678-1abd-48c8-d6c1-338665e40ef4"
      },
      "execution_count": null,
      "outputs": [
        {
          "output_type": "stream",
          "name": "stdout",
          "text": [
            "training images: (50000, 32, 32, 3)\n",
            "training images: (10000, 32, 32, 3)\n"
          ]
        }
      ]
    },
    {
      "cell_type": "code",
      "source": [
        "print(y_train)"
      ],
      "metadata": {
        "colab": {
          "base_uri": "https://localhost:8080/"
        },
        "id": "d_hmUQvfkbbQ",
        "outputId": "8683c5b0-8fb9-467d-fa46-ca013f2a0d51"
      },
      "execution_count": null,
      "outputs": [
        {
          "output_type": "stream",
          "name": "stdout",
          "text": [
            "[[6]\n",
            " [9]\n",
            " [9]\n",
            " ...\n",
            " [9]\n",
            " [1]\n",
            " [1]]\n"
          ]
        }
      ]
    },
    {
      "cell_type": "code",
      "source": [
        "print(x_train)"
      ],
      "metadata": {
        "colab": {
          "base_uri": "https://localhost:8080/"
        },
        "id": "jbKQsNGOkuPZ",
        "outputId": "708722f0-30fd-42cb-bf9c-76eefa1d0dd5"
      },
      "execution_count": null,
      "outputs": [
        {
          "output_type": "stream",
          "name": "stdout",
          "text": [
            "[[[[ 59  62  63]\n",
            "   [ 43  46  45]\n",
            "   [ 50  48  43]\n",
            "   ...\n",
            "   [158 132 108]\n",
            "   [152 125 102]\n",
            "   [148 124 103]]\n",
            "\n",
            "  [[ 16  20  20]\n",
            "   [  0   0   0]\n",
            "   [ 18   8   0]\n",
            "   ...\n",
            "   [123  88  55]\n",
            "   [119  83  50]\n",
            "   [122  87  57]]\n",
            "\n",
            "  [[ 25  24  21]\n",
            "   [ 16   7   0]\n",
            "   [ 49  27   8]\n",
            "   ...\n",
            "   [118  84  50]\n",
            "   [120  84  50]\n",
            "   [109  73  42]]\n",
            "\n",
            "  ...\n",
            "\n",
            "  [[208 170  96]\n",
            "   [201 153  34]\n",
            "   [198 161  26]\n",
            "   ...\n",
            "   [160 133  70]\n",
            "   [ 56  31   7]\n",
            "   [ 53  34  20]]\n",
            "\n",
            "  [[180 139  96]\n",
            "   [173 123  42]\n",
            "   [186 144  30]\n",
            "   ...\n",
            "   [184 148  94]\n",
            "   [ 97  62  34]\n",
            "   [ 83  53  34]]\n",
            "\n",
            "  [[177 144 116]\n",
            "   [168 129  94]\n",
            "   [179 142  87]\n",
            "   ...\n",
            "   [216 184 140]\n",
            "   [151 118  84]\n",
            "   [123  92  72]]]\n",
            "\n",
            "\n",
            " [[[154 177 187]\n",
            "   [126 137 136]\n",
            "   [105 104  95]\n",
            "   ...\n",
            "   [ 91  95  71]\n",
            "   [ 87  90  71]\n",
            "   [ 79  81  70]]\n",
            "\n",
            "  [[140 160 169]\n",
            "   [145 153 154]\n",
            "   [125 125 118]\n",
            "   ...\n",
            "   [ 96  99  78]\n",
            "   [ 77  80  62]\n",
            "   [ 71  73  61]]\n",
            "\n",
            "  [[140 155 164]\n",
            "   [139 146 149]\n",
            "   [115 115 112]\n",
            "   ...\n",
            "   [ 79  82  64]\n",
            "   [ 68  70  55]\n",
            "   [ 67  69  55]]\n",
            "\n",
            "  ...\n",
            "\n",
            "  [[175 167 166]\n",
            "   [156 154 160]\n",
            "   [154 160 170]\n",
            "   ...\n",
            "   [ 42  34  36]\n",
            "   [ 61  53  57]\n",
            "   [ 93  83  91]]\n",
            "\n",
            "  [[165 154 128]\n",
            "   [156 152 130]\n",
            "   [159 161 142]\n",
            "   ...\n",
            "   [103  93  96]\n",
            "   [123 114 120]\n",
            "   [131 121 131]]\n",
            "\n",
            "  [[163 148 120]\n",
            "   [158 148 122]\n",
            "   [163 156 133]\n",
            "   ...\n",
            "   [143 133 139]\n",
            "   [143 134 142]\n",
            "   [143 133 144]]]\n",
            "\n",
            "\n",
            " [[[255 255 255]\n",
            "   [253 253 253]\n",
            "   [253 253 253]\n",
            "   ...\n",
            "   [253 253 253]\n",
            "   [253 253 253]\n",
            "   [253 253 253]]\n",
            "\n",
            "  [[255 255 255]\n",
            "   [255 255 255]\n",
            "   [255 255 255]\n",
            "   ...\n",
            "   [255 255 255]\n",
            "   [255 255 255]\n",
            "   [255 255 255]]\n",
            "\n",
            "  [[255 255 255]\n",
            "   [254 254 254]\n",
            "   [254 254 254]\n",
            "   ...\n",
            "   [254 254 254]\n",
            "   [254 254 254]\n",
            "   [254 254 254]]\n",
            "\n",
            "  ...\n",
            "\n",
            "  [[113 120 112]\n",
            "   [111 118 111]\n",
            "   [105 112 106]\n",
            "   ...\n",
            "   [ 72  81  80]\n",
            "   [ 72  80  79]\n",
            "   [ 72  80  79]]\n",
            "\n",
            "  [[111 118 110]\n",
            "   [104 111 104]\n",
            "   [ 99 106  98]\n",
            "   ...\n",
            "   [ 68  75  73]\n",
            "   [ 70  76  75]\n",
            "   [ 78  84  82]]\n",
            "\n",
            "  [[106 113 105]\n",
            "   [ 99 106  98]\n",
            "   [ 95 102  94]\n",
            "   ...\n",
            "   [ 78  85  83]\n",
            "   [ 79  85  83]\n",
            "   [ 80  86  84]]]\n",
            "\n",
            "\n",
            " ...\n",
            "\n",
            "\n",
            " [[[ 35 178 235]\n",
            "   [ 40 176 239]\n",
            "   [ 42 176 241]\n",
            "   ...\n",
            "   [ 99 177 219]\n",
            "   [ 79 147 197]\n",
            "   [ 89 148 189]]\n",
            "\n",
            "  [[ 57 182 234]\n",
            "   [ 44 184 250]\n",
            "   [ 50 183 240]\n",
            "   ...\n",
            "   [156 182 200]\n",
            "   [141 177 206]\n",
            "   [116 149 175]]\n",
            "\n",
            "  [[ 98 197 237]\n",
            "   [ 64 189 252]\n",
            "   [ 69 192 245]\n",
            "   ...\n",
            "   [188 195 206]\n",
            "   [119 135 147]\n",
            "   [ 61  79  90]]\n",
            "\n",
            "  ...\n",
            "\n",
            "  [[ 73  79  77]\n",
            "   [ 53  63  68]\n",
            "   [ 54  68  80]\n",
            "   ...\n",
            "   [ 17  40  64]\n",
            "   [ 21  36  51]\n",
            "   [ 33  48  49]]\n",
            "\n",
            "  [[ 61  68  75]\n",
            "   [ 55  70  86]\n",
            "   [ 57  79 103]\n",
            "   ...\n",
            "   [ 24  48  72]\n",
            "   [ 17  35  53]\n",
            "   [  7  23  32]]\n",
            "\n",
            "  [[ 44  56  73]\n",
            "   [ 46  66  88]\n",
            "   [ 49  77 105]\n",
            "   ...\n",
            "   [ 27  52  77]\n",
            "   [ 21  43  66]\n",
            "   [ 12  31  50]]]\n",
            "\n",
            "\n",
            " [[[189 211 240]\n",
            "   [186 208 236]\n",
            "   [185 207 235]\n",
            "   ...\n",
            "   [175 195 224]\n",
            "   [172 194 222]\n",
            "   [169 194 220]]\n",
            "\n",
            "  [[194 210 239]\n",
            "   [191 207 236]\n",
            "   [190 206 235]\n",
            "   ...\n",
            "   [173 192 220]\n",
            "   [171 191 218]\n",
            "   [167 190 216]]\n",
            "\n",
            "  [[208 219 244]\n",
            "   [205 216 240]\n",
            "   [204 215 239]\n",
            "   ...\n",
            "   [175 191 217]\n",
            "   [172 190 216]\n",
            "   [169 191 215]]\n",
            "\n",
            "  ...\n",
            "\n",
            "  [[207 199 181]\n",
            "   [203 195 175]\n",
            "   [203 196 173]\n",
            "   ...\n",
            "   [135 132 127]\n",
            "   [162 158 150]\n",
            "   [168 163 151]]\n",
            "\n",
            "  [[198 190 170]\n",
            "   [189 181 159]\n",
            "   [180 172 147]\n",
            "   ...\n",
            "   [178 171 160]\n",
            "   [175 169 156]\n",
            "   [175 169 154]]\n",
            "\n",
            "  [[198 189 173]\n",
            "   [189 181 162]\n",
            "   [178 170 149]\n",
            "   ...\n",
            "   [195 184 169]\n",
            "   [196 189 171]\n",
            "   [195 190 171]]]\n",
            "\n",
            "\n",
            " [[[229 229 239]\n",
            "   [236 237 247]\n",
            "   [234 236 247]\n",
            "   ...\n",
            "   [217 219 233]\n",
            "   [221 223 234]\n",
            "   [222 223 233]]\n",
            "\n",
            "  [[222 221 229]\n",
            "   [239 239 249]\n",
            "   [233 234 246]\n",
            "   ...\n",
            "   [223 223 236]\n",
            "   [227 228 238]\n",
            "   [210 211 220]]\n",
            "\n",
            "  [[213 206 211]\n",
            "   [234 232 239]\n",
            "   [231 233 244]\n",
            "   ...\n",
            "   [220 220 232]\n",
            "   [220 219 232]\n",
            "   [202 203 215]]\n",
            "\n",
            "  ...\n",
            "\n",
            "  [[150 143 135]\n",
            "   [140 135 127]\n",
            "   [132 127 120]\n",
            "   ...\n",
            "   [224 222 218]\n",
            "   [230 228 225]\n",
            "   [241 241 238]]\n",
            "\n",
            "  [[137 132 126]\n",
            "   [130 127 120]\n",
            "   [125 121 115]\n",
            "   ...\n",
            "   [181 180 178]\n",
            "   [202 201 198]\n",
            "   [212 211 207]]\n",
            "\n",
            "  [[122 119 114]\n",
            "   [118 116 110]\n",
            "   [120 116 111]\n",
            "   ...\n",
            "   [179 177 173]\n",
            "   [164 164 162]\n",
            "   [163 163 161]]]]\n"
          ]
        }
      ]
    },
    {
      "cell_type": "code",
      "source": [
        "print(x_train[0].shape)"
      ],
      "metadata": {
        "colab": {
          "base_uri": "https://localhost:8080/"
        },
        "id": "7l6FpsZyiQkK",
        "outputId": "d68080e4-61a9-40a8-863d-ed67fe7f091a"
      },
      "execution_count": null,
      "outputs": [
        {
          "output_type": "stream",
          "name": "stdout",
          "text": [
            "(32, 32, 3)\n"
          ]
        }
      ]
    },
    {
      "cell_type": "code",
      "source": [
        "for i in range(330,338):\n",
        "  plt.subplot(120+1+i)\n",
        "  img=x_train[i]\n",
        "  plt.imshow(img)"
      ],
      "metadata": {
        "colab": {
          "base_uri": "https://localhost:8080/",
          "height": 155
        },
        "id": "w27hJv2eiXlN",
        "outputId": "c38d7210-94f3-4c8e-cebf-445ad4b0516a"
      },
      "execution_count": null,
      "outputs": [
        {
          "output_type": "display_data",
          "data": {
            "image/png": "[encoded data removed]",
            "text/plain": [
              "<Figure size 432x288 with 8 Axes>"
            ]
          },
          "metadata": {
            "needs_background": "light"
          }
        }
      ]
    },
    {
      "cell_type": "code",
      "source": [
        "x_train=x_train.reshape(x_train.shape[0],32,32,3)\n",
        "x_test=x_test.reshape(x_test.shape[0],32,32,3)\n",
        "x_train=x_train.astype('float32')\n",
        "x_test=x_test.astype('float32')\n",
        "x_train/=255\n",
        "x_test/=255\n",
        "n_classes=10\n",
        "print(\"shape before one-hot encoding:\",y_train.shape)\n",
        "Y_train=np_utils.to_categorical(y_train,n_classes)\n",
        "Y_test=np_utils.to_categorical(y_test,n_classes)\n",
        "print(\"shape after one-hot encoding:\",Y_train.shape)"
      ],
      "metadata": {
        "colab": {
          "base_uri": "https://localhost:8080/"
        },
        "id": "aog1Rmrai3sq",
        "outputId": "e69e860d-c0fa-44b9-970f-f48707ab9f7e"
      },
      "execution_count": null,
      "outputs": [
        {
          "output_type": "stream",
          "name": "stdout",
          "text": [
            "shape before one-hot encoding: (50000, 1)\n",
            "shape after one-hot encoding: (50000, 10)\n"
          ]
        }
      ]
    },
    {
      "cell_type": "markdown",
      "source": [
        "# **Building the data model**"
      ],
      "metadata": {
        "id": "Z8bZE9vyrBFP"
      }
    },
    {
      "cell_type": "code",
      "source": [
        "from keras.models import Sequential\n",
        "from keras.layers import Dense,Conv2D,Flatten,MaxPool2D,Dropout\n",
        "model=Sequential()\n",
        "\n",
        "#convolution layers\n",
        "model.add(Conv2D(50,kernel_size=(3,3),strides=(1,1),padding='same',activation='relu',input_shape=(32,32,3)))\n",
        "\n",
        "model.add(Conv2D(75,kernel_size=(3,3),strides=(1,1),padding='same',activation='relu'))\n",
        "model.add(MaxPool2D(pool_size=(2,2)))\n",
        "model.add(Dropout(0.25))\n",
        "\n",
        "model.add(Conv2D(125,kernel_size=(2,2),strides=(1,1),padding='same',activation='relu'))\n",
        "model.add(MaxPool2D(pool_size=(2,2)))\n",
        "model.add(Dropout(0.25))\n",
        "\n",
        "model.add(Flatten())\n",
        "\n",
        "#hideen layer\n",
        "model.add(Dense(500,activation='relu'))\n",
        "model.add(Dropout(0.4))\n",
        "#output layer\n",
        "model.add(Dense(10,activation='softmax'))\n",
        "\n",
        "#compiling\n",
        "model.compile(loss='categorical_crossentropy',metrics=['accuracy'],optimizer='adam')\n",
        "\n",
        "#training the model\n",
        "model.fit(x_train, Y_train, batch_size=128, epochs=10, validation_data=(x_test,Y_test))"
      ],
      "metadata": {
        "colab": {
          "base_uri": "https://localhost:8080/"
        },
        "id": "6Tc5V7UOrecq",
        "outputId": "62db90ee-f4f0-4399-b178-3fa42df8e081"
      },
      "execution_count": null,
      "outputs": [
        {
          "output_type": "stream",
          "name": "stdout",
          "text": [
            "Epoch 1/10\n",
            "391/391 [==============================] - 469s 1s/step - loss: 1.5445 - accuracy: 0.4396 - val_loss: 1.1746 - val_accuracy: 0.5923\n",
            "Epoch 2/10\n",
            "391/391 [==============================] - 474s 1s/step - loss: 1.1061 - accuracy: 0.6063 - val_loss: 0.9536 - val_accuracy: 0.6686\n",
            "Epoch 3/10\n",
            "391/391 [==============================] - 478s 1s/step - loss: 0.9422 - accuracy: 0.6683 - val_loss: 0.8563 - val_accuracy: 0.7002\n",
            "Epoch 4/10\n",
            "391/391 [==============================] - 471s 1s/step - loss: 0.8323 - accuracy: 0.7059 - val_loss: 0.7782 - val_accuracy: 0.7289\n",
            "Epoch 5/10\n",
            "391/391 [==============================] - 470s 1s/step - loss: 0.7550 - accuracy: 0.7361 - val_loss: 0.7595 - val_accuracy: 0.7323\n",
            "Epoch 6/10\n",
            "391/391 [==============================] - ETA: 0s - loss: 0.6881 - accuracy: 0.7571Epoch 7/10\n",
            "391/391 [==============================] - 472s 1s/step - loss: 0.6293 - accuracy: 0.7783 - val_loss: 0.7058 - val_accuracy: 0.7547\n",
            "Epoch 8/10\n",
            "391/391 [==============================] - 473s 1s/step - loss: 0.5716 - accuracy: 0.7989 - val_loss: 0.7023 - val_accuracy: 0.7608\n",
            "Epoch 9/10\n",
            "391/391 [==============================] - 476s 1s/step - loss: 0.5325 - accuracy: 0.8112 - val_loss: 0.7174 - val_accuracy: 0.7588\n",
            "Epoch 10/10\n",
            "391/391 [==============================] - 476s 1s/step - loss: 0.4857 - accuracy: 0.8282 - val_loss: 0.6705 - val_accuracy: 0.7700\n"
          ]
        },
        {
          "output_type": "execute_result",
          "data": {
            "text/plain": [
              "<keras.callbacks.History at 0x7f3e8ad9d8d0>"
            ]
          },
          "metadata": {},
          "execution_count": 87
        }
      ]
    },
    {
      "cell_type": "code",
      "source": [
        "classes=range(0,10)\n",
        "names=['airpalne',\n",
        "       'automobile',\n",
        "       'bird','cat','deer','dog','frog','horse','ship','truck']\n",
        "class_labels=dict(zip(classes,names))\n",
        "batch=x_test[100:109]\n",
        "labels=np.argmax(Y_test[100:109],axis=-1)\n",
        "\n",
        "#make predictions\n",
        "predictions=model.predict(batch,verbose=1)"
      ],
      "metadata": {
        "colab": {
          "base_uri": "https://localhost:8080/"
        },
        "id": "v_RQTCIW1gPi",
        "outputId": "153515ae-2c02-4e72-9d02-2cccd3d346a3"
      },
      "execution_count": null,
      "outputs": [
        {
          "output_type": "stream",
          "name": "stdout",
          "text": [
            "1/1 [==============================] - 0s 98ms/step\n"
          ]
        }
      ]
    },
    {
      "cell_type": "code",
      "source": [
        "print(predictions)"
      ],
      "metadata": {
        "colab": {
          "base_uri": "https://localhost:8080/"
        },
        "id": "CRrvUnnJ3cL2",
        "outputId": "f35c15f4-e440-41d8-cf5c-d4f0f73dfaa0"
      },
      "execution_count": null,
      "outputs": [
        {
          "output_type": "stream",
          "name": "stdout",
          "text": [
            "[[5.8517871e-06 4.1139590e-09 1.2106961e-02 4.9679797e-02 4.2498916e-01\n",
            "  8.0595464e-02 4.2434191e-04 4.3217090e-01 1.6608334e-05 1.0986822e-05]\n",
            " [1.6401800e-05 1.4249486e-06 4.3418627e-02 1.3772024e-01 9.2596255e-02\n",
            "  5.9415150e-01 9.1456428e-02 3.8614344e-02 1.9832531e-03 4.1548730e-05]\n",
            " [4.3886857e-06 2.1787933e-05 6.9628363e-03 1.2223567e-02 6.2047155e-05\n",
            "  5.0467267e-03 9.7209680e-01 3.2178084e-03 3.4159148e-04 2.2465798e-05]\n",
            " [2.5268690e-07 9.8075503e-09 1.0306760e-04 9.6734548e-01 3.7598535e-03\n",
            "  4.7044898e-03 2.3556370e-02 5.0879328e-04 1.9619863e-06 1.9803969e-05]\n",
            " [9.4555617e-06 9.9803287e-01 4.2817053e-10 4.4293785e-08 2.5434871e-11\n",
            "  7.5799492e-11 1.0557553e-10 1.6975835e-09 4.0991773e-04 1.5478081e-03]\n",
            " [6.2161664e-05 9.9618006e-01 5.2162778e-07 1.8515898e-06 8.8410976e-09\n",
            "  8.1707427e-08 5.0152085e-08 8.4458573e-10 3.0251353e-03 7.3009252e-04]\n",
            " [2.1967513e-02 1.6446589e-04 4.7398325e-02 8.3359981e-01 2.1800619e-04\n",
            "  1.2948358e-02 2.5071789e-02 2.9141476e-04 5.7934467e-02 4.0584180e-04]\n",
            " [3.3804756e-10 5.0945616e-08 2.9923921e-04 3.6815949e-05 2.7686097e-05\n",
            "  2.1943038e-06 9.9963391e-01 5.7296962e-08 1.4263558e-09 8.0426808e-08]\n",
            " [1.6518597e-02 4.0523019e-03 1.3197355e-03 9.8446138e-02 3.1243842e-05\n",
            "  6.8880362e-03 3.1370211e-03 1.4866292e-04 8.6941797e-01 4.0359566e-05]]\n"
          ]
        }
      ]
    }
  ]
}